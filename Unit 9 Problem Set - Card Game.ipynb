{
 "cells": [
  {
   "cell_type": "markdown",
   "metadata": {},
   "source": [
    "# Unit 9 Problem Set\n",
    "\n",
    "In this problem set we will build a set of classes that will be used to play the card game Blackjack. If you have never played, then you can find the simple rules here: https://www.bicyclecards.com/how-to-play/blackjack/\n"
   ]
  },
  {
   "cell_type": "markdown",
   "metadata": {},
   "source": [
    "## The Card class"
   ]
  },
  {
   "cell_type": "markdown",
   "metadata": {},
   "source": [
    "1.Think about a deck of cards. What do you need to know in order to tell one card from another? \n",
    "\n",
    "There are thirteen different ranks, from Ace to King. There are four different suits: Clubs, Diamonds, Hearts, and Spades. So, to know everything about a single card you need its rank and its suit. In card games such as blackjack, where the cards are worth a certain number of points, it is also helpful to have a third variable, called value that is an integer related to a card's rank. The values of the cards are [2,3,4,5,6,7,8,9,10,10,10,10,11], respectively (meaning, the Jack, King, Queen, and 10 have a value of 10 and the Ace has a value of 11).\n",
    "\n",
    "Create a **class** named **Card**. Include three **attributes**: **rank** and **suit** (both strings) and **value** (int). Don't forget the initializing (__init__) and the toString (__str__) methods.\n",
    "\n",
    "Test that you can create a few cards. Make several instances of different cards: try Ace of Spades and Eight of Hearts. "
   ]
  },
  {
   "cell_type": "code",
   "execution_count": 4,
   "metadata": {},
   "outputs": [
    {
     "name": "stdout",
     "output_type": "stream",
     "text": [
      "Ace of Spades\n",
      "Eight of Hearts\n"
     ]
    }
   ],
   "source": [
    "class Card:\n",
    "    def __init__(self, rank, suit, value):\n",
    "        self.rank = rank\n",
    "        self.suit = suit\n",
    "        self.value = value\n",
    "        \n",
    "    def __str__(self):\n",
    "        return f\"{self.rank} of {self.suit}\"\n",
    "    \n",
    "card1 = Card('Ace','Spades', 11)\n",
    "print(card1)\n",
    "card2 = Card('Eight','Hearts', 8)\n",
    "print(card2)"
   ]
  },
  {
   "cell_type": "markdown",
   "metadata": {},
   "source": [
    "## The Deck class"
   ]
  },
  {
   "cell_type": "markdown",
   "metadata": {},
   "source": [
    "2.A typical deck of cards has one of each rank in one of each suit, for a total of 52 cards. Create a **class** named **Deck**. The **attribute** of our Deck class will be a single list of 52 Card objects named **cards**.\n",
    "\n",
    "To do this, you will need to send three lists to the initializing method as input: ranks, suits, and values. Then use a double for-loop to create the Cards (by calling the initializing method of the Card Class) and append them to the list called cards. To help, here are three lists that you can copy and paste in your code below:\n",
    "\n",
    "ranks = ['Two','Three','Four','Five','Six','Seven','Eight','Nine','Ten','Jack','Queen','King','Ace']\n",
    "\n",
    "suits = ['Clubs', 'Diamonds', 'Hearts', 'Spades']\n",
    "\n",
    "values = [2,3,4,5,6,7,8,9,10,10,10,10,11]"
   ]
  },
  {
   "cell_type": "code",
   "execution_count": 5,
   "metadata": {},
   "outputs": [],
   "source": [
    "class Deck:\n",
    "    def __init__(self, rank, suit, value):\n",
    "        self.cards = []\n",
    "        Card.__init__(self,rank,suit,value)\n",
    "        \n",
    "        for rank in self.rank:\n",
    "            for suit in self.suit:\n",
    "                self.cards.append(Card(rank,suit,value))\n",
    "\n",
    "    \n",
    "deck1 = Deck( ['Two','Three','Four','Five','Six','Seven','Eight','Nine','Ten','Jack','Queen','King','Ace'],\n",
    "            ['Clubs', 'Diamonds', 'Hearts', 'Spades'], [2,3,4,5,6,7,8,9,10,10,10,10,11])\n"
   ]
  },
  {
   "cell_type": "markdown",
   "metadata": {},
   "source": [
    "3.One obvious **method** that you will need is a **shuffle()** method that shuffles the deck **in place**. This method should reorder the deck randomly. There are many ways to do this, but luckily, the Python random package has a shuffle method built in that shuffles a list in place! \n",
    "\n",
    "Finally, create a method called **get_top_card()**. This method should **return** the card with index 0, and remove it from the deck **in place**."
   ]
  },
  {
   "cell_type": "code",
   "execution_count": 8,
   "metadata": {},
   "outputs": [
    {
     "name": "stdout",
     "output_type": "stream",
     "text": [
      "Two of Clubs\n"
     ]
    }
   ],
   "source": [
    "import random\n",
    "\n",
    "class Deck:\n",
    "    def __init__(self, rank, suit, value):\n",
    "        self.cards = []\n",
    "        Card.__init__(self,rank,suit,value)\n",
    "        \n",
    "        for i in range(len(self.rank)):\n",
    "            for suit in self.suit:\n",
    "                self.cards.append(Card(self.rank[i],suit,self.value[i]))\n",
    "                \n",
    "    def shuffle(self):\n",
    "        random.shuffle(self.cards)\n",
    "    \n",
    "    def get_top_card(self):\n",
    "        return self.cards.pop(0)\n",
    "    \n",
    "    \n",
    "deck1 = Deck( ['Two','Three','Four','Five','Six','Seven','Eight','Nine','Ten','Jack','Queen','King','Ace'],\n",
    "            ['Clubs', 'Diamonds', 'Hearts', 'Spades'], [2,3,4,5,6,7,8,9,10,10,10,10,11])\n",
    "print(deck1.get_top_card())\n"
   ]
  },
  {
   "cell_type": "markdown",
   "metadata": {},
   "source": [
    "4.Use the cell below to test your deck method. Hint: check the length of your deck to make sure that the get_top_card method is removing a card from the deck. Also check that your deck is getting randomly shuffled. Insert some test code below."
   ]
  },
  {
   "cell_type": "code",
   "execution_count": 7,
   "metadata": {},
   "outputs": [
    {
     "ename": "AttributeError",
     "evalue": "'Deck' object has no attribute 'get_top_card'",
     "output_type": "error",
     "traceback": [
      "\u001b[0;31m---------------------------------------------------------------------------\u001b[0m",
      "\u001b[0;31mAttributeError\u001b[0m                            Traceback (most recent call last)",
      "\u001b[0;32m<ipython-input-7-d4b82bbca42d>\u001b[0m in \u001b[0;36m<module>\u001b[0;34m()\u001b[0m\n\u001b[0;32m----> 1\u001b[0;31m \u001b[0mprint\u001b[0m\u001b[0;34m(\u001b[0m\u001b[0mdeck1\u001b[0m\u001b[0;34m.\u001b[0m\u001b[0mget_top_card\u001b[0m\u001b[0;34m(\u001b[0m\u001b[0;34m)\u001b[0m\u001b[0;34m)\u001b[0m\u001b[0;34m\u001b[0m\u001b[0m\n\u001b[0m\u001b[1;32m      2\u001b[0m \u001b[0mprint\u001b[0m\u001b[0;34m(\u001b[0m\u001b[0mlen\u001b[0m\u001b[0;34m(\u001b[0m\u001b[0mdeck1\u001b[0m\u001b[0;34m.\u001b[0m\u001b[0mcards\u001b[0m\u001b[0;34m)\u001b[0m\u001b[0;34m)\u001b[0m\u001b[0;34m\u001b[0m\u001b[0m\n\u001b[1;32m      3\u001b[0m \u001b[0mdeck1\u001b[0m\u001b[0;34m.\u001b[0m\u001b[0mshuffle\u001b[0m\u001b[0;34m(\u001b[0m\u001b[0;34m)\u001b[0m\u001b[0;34m\u001b[0m\u001b[0m\n\u001b[1;32m      4\u001b[0m \u001b[0mprint\u001b[0m\u001b[0;34m(\u001b[0m\u001b[0mdeck1\u001b[0m\u001b[0;34m.\u001b[0m\u001b[0mcards\u001b[0m\u001b[0;34m[\u001b[0m\u001b[0;36m5\u001b[0m\u001b[0;34m]\u001b[0m\u001b[0;34m)\u001b[0m \u001b[0;31m#should be completely different card almost everytime\u001b[0m\u001b[0;34m\u001b[0m\u001b[0m\n\u001b[1;32m      5\u001b[0m \u001b[0;31m#As expected, the number of cards decreases by one each time cell runs.\u001b[0m\u001b[0;34m\u001b[0m\u001b[0;34m\u001b[0m\u001b[0m\n",
      "\u001b[0;31mAttributeError\u001b[0m: 'Deck' object has no attribute 'get_top_card'"
     ]
    }
   ],
   "source": [
    "print(deck1.get_top_card())\n",
    "print(len(deck1.cards))\n",
    "deck1.shuffle()\n",
    "print(deck1.cards[5]) #should be completely different card almost everytime\n",
    "#As expected, the number of cards decreases by one each time cell runs. "
   ]
  },
  {
   "cell_type": "markdown",
   "metadata": {},
   "source": [
    "## The Blackjack class"
   ]
  },
  {
   "cell_type": "markdown",
   "metadata": {},
   "source": [
    "When a 'single' program is built from several classes, it is common to have a runner class that is not intended to create objects. We will name our **runner class**, **Blackjack**. Since we will not be creating instances of this class, we do not need an initializing method. \n",
    "\n",
    "We will need **methods** as follows (notice that they are named so that anyone will know what they do):\n",
    "\n",
    "**player_turn()**, **computer_turn()**, **deal()**, **check_bust()**, **check_blackjack()**, **find_winner()**, and finally a **main** method to control the order of when methods will be called. See below for an outline of the main method. Your job is to finish the main and write the rest of the methods."
   ]
  },
  {
   "cell_type": "code",
   "execution_count": 10,
   "metadata": {},
   "outputs": [
    {
     "name": "stdout",
     "output_type": "stream",
     "text": [
      "_____PLAYER TURN_____\n",
      "Picked up a King of Spades!\n",
      "Total: 10\n",
      "_____COMPUTER TURN_____\n",
      "Picked up a Queen of Clubs!\n",
      "Total: 10\n",
      "_____PLAYER TURN_______\n",
      "Picked up a Four of Diamonds!\n",
      "Total: 14\n",
      "_____COMPUTER TURN_____\n",
      "Picked up a Seven of Hearts!\n",
      "Total: 17\n",
      "_____PLAYER TURN_____\n",
      "Total: 14\n",
      "Would you like to choose a new card? (type 'yes' or 'no') yes\n",
      "_____PLAYER TURN_____\n",
      "Picked up a Four of Clubs!\n",
      "Total: 18\n",
      "_____PLAYER TURN_____\n",
      "Total: 18\n",
      "Would you like to choose a new card? (type 'yes' or 'no') no\n",
      "_____COMPUTER TURN_____\n",
      "Undisclosed!\n",
      "Player Wins!\n",
      "Player Total: 18\n",
      "Computer Total: 17\n"
     ]
    }
   ],
   "source": [
    "class Blackjack:\n",
    "        \n",
    "        def deal(self, deck, tally):\n",
    "            '''deals a single card and returns the new tally of all that player/'s cards'''\n",
    "            card = deck.get_top_card()\n",
    "            tally += card.value\n",
    "            print(f\"Picked up a {card}!\")\n",
    "            print(f\"Total: {tally}\")\n",
    "            return tally\n",
    "            \n",
    "            \n",
    "        def check_bust(self, tally):\n",
    "            '''returns True or False based on whether the tally is greater than 21'''\n",
    "            if tally > 21:\n",
    "                return True\n",
    "            elif tally < 21:\n",
    "                return False\n",
    "        \n",
    "        def check_blackjack(self, tally):\n",
    "            '''returns True or False based on whether the tally is equal to 21'''\n",
    "            if tally == 21:\n",
    "                return True\n",
    "            else:\n",
    "                return False\n",
    "            \n",
    "        #player method\n",
    "        def player_turn(self, deck, player_sum):\n",
    "            '''Continues to ask the user if they want to choose a new card (and then chooses a card)\n",
    "            until the player busts or chooses to stop receiving more cards. It then returns the player_sum.'''\n",
    "           \n",
    "            while self.check_bust(player_sum) == False and self.check_blackjack(player_sum) == False:\n",
    "                print(\"_____PLAYER TURN_____\")\n",
    "                print(f\"Total: {player_sum}\")\n",
    "                response = input(\"Would you like to choose a new card? (type 'yes' or 'no') \")\n",
    "                if response == 'yes':    \n",
    "                    #choose a random card in the deck and add it to the hand \n",
    "                    card = deck.get_top_card()\n",
    "                    player_sum += card.value\n",
    "                    print(\"_____PLAYER TURN_____\")\n",
    "                    print(f\"Picked up a {card}!\")\n",
    "                    print(f\"Total: {player_sum}\")\n",
    "                else:\n",
    "                    return player_sum\n",
    "            return player_sum\n",
    "        \n",
    "        #computer method\n",
    "        def computer_turn(self, deck, comp_sum):\n",
    "            '''Continues to choose a new card\n",
    "            until the computer busts or the comp_sum becomes 17 or higher. It then returns the comp_sum.'''\n",
    "            \n",
    "            print(\"_____COMPUTER TURN_____\")\n",
    "            print('Undisclosed!')\n",
    "            while comp_sum < 17:\n",
    "                card = deck.get_top_card()\n",
    "                comp_sum += card.value\n",
    "\n",
    "            return comp_sum\n",
    "        \n",
    "        \n",
    "        \n",
    "        \n",
    "        def find_winner(self, player_sum, comp_sum):\n",
    "            '''Prints Player Wins!, Computer Wins!, or Tie! based on a comparison of player_sum and comp_sum.'''\n",
    "            if self.check_bust(player_sum):\n",
    "                return \"Computer Wins! (player busted)\"\n",
    "            elif self.check_bust(comp_sum):\n",
    "                return \"Player Wins! (computer busted)\"\n",
    "            elif player_sum > comp_sum:\n",
    "                return \"Player Wins!\"\n",
    "            elif player_sum < comp_sum:\n",
    "                return \"Computer Wins!\"\n",
    "            else:\n",
    "                return \"Tie!\"\n",
    "        \n",
    "        def main(self):\n",
    "        \n",
    "            #create a runner class\n",
    "            game = Blackjack()\n",
    "            \n",
    "            #we will need these lists below\n",
    "            ranks = ['Two','Three','Four','Five','Six','Seven','Eight','Nine','Ten','Jack','Queen','King','Ace']\n",
    "            suits = ['Clubs', 'Diamonds', 'Hearts', 'Spades']\n",
    "            values = [2,3,4,5,6,7,8,9,10,10,10,10,11]\n",
    "\n",
    "            #create a deck object \n",
    "            deck = Deck( ['Two','Three','Four','Five','Six','Seven','Eight','Nine','Ten','Jack','Queen','King','Ace'],\n",
    "            ['Clubs', 'Diamonds', 'Hearts', 'Spades'], [2,3,4,5,6,7,8,9,10,10,10,10,11])\n",
    "\n",
    "            \n",
    "            #shuffle the deck\n",
    "            deck.shuffle()\n",
    "            \n",
    "            #initialize a player_sum and comp_sum to zero\n",
    "            player_sum = 0\n",
    "            comp_sum = 0\n",
    "            \n",
    "            #deal the first four cards (alternating player/comp/player/comp)\n",
    "            print(\"_____PLAYER TURN_____\")\n",
    "            player_sum = self.deal(deck,player_sum)\n",
    "            print(\"_____COMPUTER TURN_____\")\n",
    "            comp_sum = self.deal(deck,comp_sum)\n",
    "            print(\"_____PLAYER TURN_______\")\n",
    "            player_sum = self.deal(deck,player_sum)\n",
    "            print(\"_____COMPUTER TURN_____\")\n",
    "            comp_sum = self.deal(deck,comp_sum)\n",
    "            \n",
    "            #let the player take their turn (meaning they can choose more cards until they choose to stop or bust)\n",
    "            player_sum = self.player_turn(deck,player_sum)\n",
    "            \n",
    "            #if the player's sum doesn't exactly equal to 21, let the computer take its turn (meaning it can choose more cards until it chooses to stop or bust)\n",
    "            if not self.check_blackjack(player_sum) and not self.check_bust(player_sum):\n",
    "                comp_sum = self.computer_turn(deck,comp_sum)\n",
    "                \n",
    "            #calculate who the winner is\n",
    "            print(self.find_winner(player_sum,comp_sum))\n",
    "            print(f\"Player Total: {player_sum}\")\n",
    "            print(f\"Computer Total: {comp_sum}\")\n",
    "            \n",
    "# run the main program\n",
    "if __name__ == '__main__':\n",
    "    Blackjack().main()"
   ]
  },
  {
   "cell_type": "code",
   "execution_count": null,
   "metadata": {
    "collapsed": true
   },
   "outputs": [],
   "source": []
  }
 ],
 "metadata": {
  "kernelspec": {
   "display_name": "Python 3",
   "language": "python",
   "name": "python3"
  },
  "language_info": {
   "codemirror_mode": {
    "name": "ipython",
    "version": 3
   },
   "file_extension": ".py",
   "mimetype": "text/x-python",
   "name": "python",
   "nbconvert_exporter": "python",
   "pygments_lexer": "ipython3",
   "version": "3.6.1"
  }
 },
 "nbformat": 4,
 "nbformat_minor": 1
}
